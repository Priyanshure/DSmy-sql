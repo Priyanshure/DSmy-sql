{
 "cells": [
  {
   "cell_type": "code",
   "execution_count": 1,
   "id": "4d8d96e0-a6a7-4b62-80af-e5faa8d93821",
   "metadata": {},
   "outputs": [],
   "source": [
    "# Primary Key (PK): A unique identifier for each record in a table\n",
    "#CREATE TABLE Students (\n",
    "#     StudentID INT PRIMARY KEY,\n",
    "#     Name VARCHAR(50)\n",
    "# );\n"
   ]
  },
  {
   "cell_type": "code",
   "execution_count": null,
   "id": "a3e5d8b6-522d-4884-87f5-506c8bfda881",
   "metadata": {},
   "outputs": [],
   "source": [
    "# # Foreign Key (FK): A reference to a Primary Key in another table, ensuring referential integrity.\n",
    "# CREATE TABLE Enrollments (\n",
    "#     EnrollmentID INT PRIMARY KEY,\n",
    "#     StudentID INT,\n",
    "#     CourseID INT,\n",
    "#     FOREIGN KEY (StudentID) REFERENCES Students(StudentID)\n",
    "# );\n"
   ]
  }
 ],
 "metadata": {
  "kernelspec": {
   "display_name": "Python 3 (ipykernel)",
   "language": "python",
   "name": "python3"
  },
  "language_info": {
   "codemirror_mode": {
    "name": "ipython",
    "version": 3
   },
   "file_extension": ".py",
   "mimetype": "text/x-python",
   "name": "python",
   "nbconvert_exporter": "python",
   "pygments_lexer": "ipython3",
   "version": "3.12.4"
  }
 },
 "nbformat": 4,
 "nbformat_minor": 5
}
