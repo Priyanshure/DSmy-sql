{
 "cells": [
  {
   "cell_type": "code",
   "execution_count": 1,
   "id": "f8a12ae6-5855-4db9-afe0-c445287729a9",
   "metadata": {},
   "outputs": [],
   "source": [
    "# A database is an organized collection of data that allows users to store, manage, and retrieve information efficiently. It is used to handle structured and unstructured data systematically."
   ]
  },
  {
   "cell_type": "code",
   "execution_count": 2,
   "id": "71f3b8d7-cadb-4ba7-b8c2-f8f3b0672569",
   "metadata": {},
   "outputs": [],
   "source": [
    "# SQL databases, also known as Relational Database Management Systems (RDBMS), use structured tables to store data. They rely on a predefined schema that determines the organization of data within tables, making them suitable for applications that require a fixed, consistent structure."
   ]
  },
  {
   "cell_type": "code",
   "execution_count": 3,
   "id": "cd743207-9feb-43ba-9a45-30728b53011a",
   "metadata": {},
   "outputs": [],
   "source": [
    "# NoSQL databases, on the other hand, are designed to handle unstructured or semi-structured data. Unlike SQL databases, NoSQL offers dynamic schemas that allow for more flexible data storage, making them ideal for handling massive volumes of data from various sources."
   ]
  },
  {
   "cell_type": "code",
   "execution_count": null,
   "id": "50b932c2-1d4d-4aa9-9d64-22ddc23d0bca",
   "metadata": {},
   "outputs": [],
   "source": []
  }
 ],
 "metadata": {
  "kernelspec": {
   "display_name": "Python 3 (ipykernel)",
   "language": "python",
   "name": "python3"
  },
  "language_info": {
   "codemirror_mode": {
    "name": "ipython",
    "version": 3
   },
   "file_extension": ".py",
   "mimetype": "text/x-python",
   "name": "python",
   "nbconvert_exporter": "python",
   "pygments_lexer": "ipython3",
   "version": "3.12.4"
  }
 },
 "nbformat": 4,
 "nbformat_minor": 5
}
