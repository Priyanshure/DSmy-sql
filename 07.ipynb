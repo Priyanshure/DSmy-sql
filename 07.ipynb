{
 "cells": [
  {
   "cell_type": "code",
   "execution_count": 1,
   "id": "cd99dcf6-f3f6-43ad-80b2-32a523365187",
   "metadata": {},
   "outputs": [],
   "source": [
    "# The order in which SQL clauses are executed differs from their written order:\n",
    "\n",
    "# FROM (Defines tables used in the query)\n",
    "\n",
    "# WHERE (Filters rows based on conditions)\n",
    "\n",
    "# GROUP BY (Groups rows with the same values)\n",
    "\n",
    "# HAVING (Filters grouped data)\n",
    "\n",
    "# SELECT (Selects required columns)\n",
    "\n",
    "# ORDER BY (Sorts the result)\n",
    "\n",
    "# LIMIT (Limits the number of records)"
   ]
  },
  {
   "cell_type": "code",
   "execution_count": 2,
   "id": "991370b2-38f3-4d2c-95a2-0a637478cfd4",
   "metadata": {},
   "outputs": [],
   "source": [
    "# SELECT Name, COUNT(*) \n",
    "# FROM Students\n",
    "# WHERE Age > 18\n",
    "# GROUP BY Name\n",
    "# HAVING COUNT(*) > 1\n",
    "# ORDER BY Name\n",
    "# LIMIT 5;\n"
   ]
  },
  {
   "cell_type": "code",
   "execution_count": null,
   "id": "51718c57-d4cd-4916-865d-b9bbc1a10494",
   "metadata": {},
   "outputs": [],
   "source": []
  }
 ],
 "metadata": {
  "kernelspec": {
   "display_name": "Python 3 (ipykernel)",
   "language": "python",
   "name": "python3"
  },
  "language_info": {
   "codemirror_mode": {
    "name": "ipython",
    "version": 3
   },
   "file_extension": ".py",
   "mimetype": "text/x-python",
   "name": "python",
   "nbconvert_exporter": "python",
   "pygments_lexer": "ipython3",
   "version": "3.12.4"
  }
 },
 "nbformat": 4,
 "nbformat_minor": 5
}
