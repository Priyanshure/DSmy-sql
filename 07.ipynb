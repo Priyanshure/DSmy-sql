{
 "cells": [
  {
   "cell_type": "code",
   "execution_count": null,
   "id": "cd99dcf6-f3f6-43ad-80b2-32a523365187",
   "metadata": {},
   "outputs": [],
   "source": []
  }
 ],
 "metadata": {
  "kernelspec": {
   "display_name": "",
   "name": ""
  },
  "language_info": {
   "name": ""
  }
 },
 "nbformat": 4,
 "nbformat_minor": 5
}
