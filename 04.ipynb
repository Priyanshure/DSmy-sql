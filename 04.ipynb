{
 "cells": [
  {
   "cell_type": "code",
   "execution_count": 1,
   "id": "1562f7c6-2e5c-48f0-9dd2-884c47974f0e",
   "metadata": {},
   "outputs": [],
   "source": [
    "# DQL (Data Query Language) is used to retrieve data from the database. The most commonly used DQL command is SELECT."
   ]
  },
  {
   "cell_type": "code",
   "execution_count": 2,
   "id": "cead4c2c-8462-46ca-bd9c-0d010289fbeb",
   "metadata": {},
   "outputs": [],
   "source": [
    "# SELECT: Fetches data from a table.\n",
    "# SELECT * FROM Students;\n"
   ]
  },
  {
   "cell_type": "code",
   "execution_count": null,
   "id": "09e21c4f-9aa3-4196-a1b5-25c82595fe3b",
   "metadata": {},
   "outputs": [],
   "source": [
    "# Retrieves all columns and records from the Students table.\n",
    "# SELECT Name, Age FROM Students WHERE Age > 18;\n"
   ]
  }
 ],
 "metadata": {
  "kernelspec": {
   "display_name": "Python 3 (ipykernel)",
   "language": "python",
   "name": "python3"
  },
  "language_info": {
   "codemirror_mode": {
    "name": "ipython",
    "version": 3
   },
   "file_extension": ".py",
   "mimetype": "text/x-python",
   "name": "python",
   "nbconvert_exporter": "python",
   "pygments_lexer": "ipython3",
   "version": "3.12.4"
  }
 },
 "nbformat": 4,
 "nbformat_minor": 5
}
