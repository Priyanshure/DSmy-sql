{
 "cells": [
  {
   "cell_type": "code",
   "execution_count": 1,
   "id": "1b2fbf3a-5860-46a0-89ea-e26ddc9c932d",
   "metadata": {},
   "outputs": [],
   "source": [
    "# DML (Data Manipulation Language) is used to manipulate and interact with data in the database."
   ]
  },
  {
   "cell_type": "code",
   "execution_count": 2,
   "id": "658160b5-b1ca-4f21-8b50-d68d6b57f0fd",
   "metadata": {},
   "outputs": [],
   "source": [
    "# INSERT: Adds new records to a table\n",
    "# INSERT INTO Students (ID, Name, Age) VALUES (1, 'John Doe', 20);\n"
   ]
  },
  {
   "cell_type": "code",
   "execution_count": 3,
   "id": "774222b6-6030-468a-a5b9-97b4023c6a45",
   "metadata": {},
   "outputs": [],
   "source": [
    "# UPDATE: Modifies existing records.\n",
    "# UPDATE Students SET Age = 21 WHERE ID = 1;\n"
   ]
  },
  {
   "cell_type": "code",
   "execution_count": null,
   "id": "80fd38be-708a-4b6f-b8e2-6373410d4154",
   "metadata": {},
   "outputs": [],
   "source": [
    "# DELETE: Removes specific records from a table.\n",
    "# DELETE FROM Students WHERE ID = 1;\n"
   ]
  }
 ],
 "metadata": {
  "kernelspec": {
   "display_name": "Python 3 (ipykernel)",
   "language": "python",
   "name": "python3"
  },
  "language_info": {
   "codemirror_mode": {
    "name": "ipython",
    "version": 3
   },
   "file_extension": ".py",
   "mimetype": "text/x-python",
   "name": "python",
   "nbconvert_exporter": "python",
   "pygments_lexer": "ipython3",
   "version": "3.12.4"
  }
 },
 "nbformat": 4,
 "nbformat_minor": 5
}
