{
 "cells": [
  {
   "cell_type": "code",
   "execution_count": 1,
   "id": "5963bdb4-ee26-44fa-90d0-72c3e2d798c9",
   "metadata": {},
   "outputs": [],
   "source": [
    "# DDL (Data Definition Language) is used to define and manage the database structure. It consists of SQL commands like CREATE, DROP, ALTER, and TRUNCATE."
   ]
  },
  {
   "cell_type": "code",
   "execution_count": 2,
   "id": "3ccd6f4a-6620-4ec3-a99d-c3a55cbb1bd5",
   "metadata": {},
   "outputs": [],
   "source": [
    "# CREATE: Used to create a database or table.\n",
    "\n",
    "# CREATE TABLE Students (\n",
    "#     ID INT PRIMARY KEY,\n",
    "#     Name VARCHAR(50),\n",
    "#     Age INT\n",
    "# );"
   ]
  },
  {
   "cell_type": "code",
   "execution_count": 3,
   "id": "02b883de-cb00-416a-a437-4fcd9769edd7",
   "metadata": {},
   "outputs": [],
   "source": [
    "# DROP: Deletes an entire database or table permanently\n",
    "# DROP TABLE Students;\n"
   ]
  },
  {
   "cell_type": "code",
   "execution_count": 4,
   "id": "314a715a-5672-4691-9051-a393f8ebb06b",
   "metadata": {},
   "outputs": [],
   "source": [
    "# ALTER: Modifies an existing table (adds, deletes, or modifies columns).\n",
    "# ALTER TABLE Students ADD Email VARCHAR(100);\n"
   ]
  },
  {
   "cell_type": "code",
   "execution_count": null,
   "id": "0a4914a3-fa4e-483b-b61b-ca1c906c9096",
   "metadata": {},
   "outputs": [],
   "source": [
    "# TRUNCATE: Deletes all records from a table but keeps its structure.\n",
    "# TRUNCATE: Deletes all records from a table but keeps its structure."
   ]
  }
 ],
 "metadata": {
  "kernelspec": {
   "display_name": "Python 3 (ipykernel)",
   "language": "python",
   "name": "python3"
  },
  "language_info": {
   "codemirror_mode": {
    "name": "ipython",
    "version": 3
   },
   "file_extension": ".py",
   "mimetype": "text/x-python",
   "name": "python",
   "nbconvert_exporter": "python",
   "pygments_lexer": "ipython3",
   "version": "3.12.4"
  }
 },
 "nbformat": 4,
 "nbformat_minor": 5
}
